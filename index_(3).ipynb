{
  "cells": [
    {
      "cell_type": "markdown",
      "metadata": {
        "id": "view-in-github",
        "colab_type": "text"
      },
      "source": [
        "<a href=\"https://colab.research.google.com/github/VolhaP87/dsc-tuning-neural-networks-from-start-to-finish-lab-v2-1/blob/master/index_(3).ipynb\" target=\"_parent\"><img src=\"https://colab.research.google.com/assets/colab-badge.svg\" alt=\"Open In Colab\"/></a>"
      ]
    },
    {
      "cell_type": "markdown",
      "metadata": {
        "id": "DB3Em0jIf-Rj"
      },
      "source": [
        "# Tuning and Optimizing Neural Networks - Lab\n",
        "\n",
        "## Introduction\n",
        "\n",
        "Now that you've practiced regularization, initialization, and optimization techniques, its time to synthesize these concepts into a cohesive modeling pipeline.  \n",
        "\n",
        "With this pipeline, you will not only fit an initial model but also attempt to improve it. Your final model selection will pertain to the test metrics across these models. This will more naturally simulate a problem you might be faced with in practice, and the various modeling decisions you are apt to encounter along the way.  \n",
        "\n",
        "Recall that our end objective is to achieve a balance between overfitting and underfitting. You've seen the bias variance trade-off, and the role of regularization in order to reduce overfitting on training data and improving generalization to new cases. Common frameworks for such a procedure include train/validate/test methodology when data is plentiful, and K-folds cross-validation for smaller, more limited datasets. In this lab, you'll perform the latter, as the dataset in question is fairly limited. \n",
        "\n",
        "## Objectives\n",
        "\n",
        "You will be able to:\n",
        "\n",
        "* Apply normalization as a preprocessing technique \n",
        "* Implement a K-folds cross validation modeling pipeline for deep learning models \n",
        "* Apply regularization techniques to improve your model's performance "
      ]
    },
    {
      "cell_type": "markdown",
      "metadata": {
        "id": "ursb4yHtf-Rl"
      },
      "source": [
        "## Load the data\n",
        "\n",
        "First, run the following cell to import all the neccessary libraries and classes you will need in this lab. "
      ]
    },
    {
      "cell_type": "code",
      "execution_count": 22,
      "metadata": {
        "id": "m0bPd1-Of-Rl"
      },
      "outputs": [],
      "source": [
        "# Necessary libraries and classes\n",
        "import numpy as np\n",
        "import pandas as pd\n",
        "from sklearn.model_selection import train_test_split\n",
        "from sklearn.preprocessing import StandardScaler, OneHotEncoder\n",
        "from sklearn.impute import SimpleImputer\n",
        "from sklearn.metrics import mean_squared_error\n",
        "from sklearn.model_selection import cross_val_predict\n",
        "from keras import models\n",
        "from keras import layers\n",
        "from keras import regularizers\n",
        "from keras.wrappers.scikit_learn import KerasRegressor"
      ]
    },
    {
      "cell_type": "markdown",
      "metadata": {
        "id": "ml49m_9Ef-Rm"
      },
      "source": [
        "In this lab you'll be working with the *The Lending Club* data. \n",
        "\n",
        "- Import the data available in the file `'loan_final.csv'` \n",
        "- Drop rows with missing values in the `'total_pymnt'` column (this is your target column) \n",
        "- Print the first five rows of the data \n",
        "- Print the dimensions of the data "
      ]
    },
    {
      "cell_type": "code",
      "execution_count": 23,
      "metadata": {
        "colab": {
          "base_uri": "https://localhost:8080/",
          "height": 357
        },
        "id": "MEyLRxo0f-Rm",
        "outputId": "220cc277-be88-426f-f52a-75822ccb8ab8"
      },
      "outputs": [
        {
          "output_type": "execute_result",
          "data": {
            "text/plain": [
              "   loan_amnt  funded_amnt_inv        term int_rate  installment grade  \\\n",
              "0     5000.0           4975.0   36 months   10.65%       162.87     B   \n",
              "1     2500.0           2500.0   60 months   15.27%        59.83     C   \n",
              "2     2400.0           2400.0   36 months   15.96%        84.33     C   \n",
              "3    10000.0          10000.0   36 months   13.49%       339.31     C   \n",
              "4     3000.0           3000.0   60 months   12.69%        67.79     B   \n",
              "\n",
              "  emp_length home_ownership  annual_inc verification_status  loan_status  \\\n",
              "0  10+ years           RENT     24000.0            Verified   Fully Paid   \n",
              "1   < 1 year           RENT     30000.0     Source Verified  Charged Off   \n",
              "2  10+ years           RENT     12252.0        Not Verified   Fully Paid   \n",
              "3  10+ years           RENT     49200.0     Source Verified   Fully Paid   \n",
              "4     1 year           RENT     80000.0     Source Verified   Fully Paid   \n",
              "\n",
              "          purpose addr_state  total_acc   total_pymnt application_type  \n",
              "0     credit_card         AZ        9.0   5863.155187       Individual  \n",
              "1             car         GA        4.0   1014.530000       Individual  \n",
              "2  small_business         IL       10.0   3005.666844       Individual  \n",
              "3           other         CA       37.0  12231.890000       Individual  \n",
              "4           other         OR       38.0   4066.908161       Individual  "
            ],
            "text/html": [
              "\n",
              "  <div id=\"df-4d0bb863-7473-48cd-a622-e25e4e79b0b0\">\n",
              "    <div class=\"colab-df-container\">\n",
              "      <div>\n",
              "<style scoped>\n",
              "    .dataframe tbody tr th:only-of-type {\n",
              "        vertical-align: middle;\n",
              "    }\n",
              "\n",
              "    .dataframe tbody tr th {\n",
              "        vertical-align: top;\n",
              "    }\n",
              "\n",
              "    .dataframe thead th {\n",
              "        text-align: right;\n",
              "    }\n",
              "</style>\n",
              "<table border=\"1\" class=\"dataframe\">\n",
              "  <thead>\n",
              "    <tr style=\"text-align: right;\">\n",
              "      <th></th>\n",
              "      <th>loan_amnt</th>\n",
              "      <th>funded_amnt_inv</th>\n",
              "      <th>term</th>\n",
              "      <th>int_rate</th>\n",
              "      <th>installment</th>\n",
              "      <th>grade</th>\n",
              "      <th>emp_length</th>\n",
              "      <th>home_ownership</th>\n",
              "      <th>annual_inc</th>\n",
              "      <th>verification_status</th>\n",
              "      <th>loan_status</th>\n",
              "      <th>purpose</th>\n",
              "      <th>addr_state</th>\n",
              "      <th>total_acc</th>\n",
              "      <th>total_pymnt</th>\n",
              "      <th>application_type</th>\n",
              "    </tr>\n",
              "  </thead>\n",
              "  <tbody>\n",
              "    <tr>\n",
              "      <th>0</th>\n",
              "      <td>5000.0</td>\n",
              "      <td>4975.0</td>\n",
              "      <td>36 months</td>\n",
              "      <td>10.65%</td>\n",
              "      <td>162.87</td>\n",
              "      <td>B</td>\n",
              "      <td>10+ years</td>\n",
              "      <td>RENT</td>\n",
              "      <td>24000.0</td>\n",
              "      <td>Verified</td>\n",
              "      <td>Fully Paid</td>\n",
              "      <td>credit_card</td>\n",
              "      <td>AZ</td>\n",
              "      <td>9.0</td>\n",
              "      <td>5863.155187</td>\n",
              "      <td>Individual</td>\n",
              "    </tr>\n",
              "    <tr>\n",
              "      <th>1</th>\n",
              "      <td>2500.0</td>\n",
              "      <td>2500.0</td>\n",
              "      <td>60 months</td>\n",
              "      <td>15.27%</td>\n",
              "      <td>59.83</td>\n",
              "      <td>C</td>\n",
              "      <td>&lt; 1 year</td>\n",
              "      <td>RENT</td>\n",
              "      <td>30000.0</td>\n",
              "      <td>Source Verified</td>\n",
              "      <td>Charged Off</td>\n",
              "      <td>car</td>\n",
              "      <td>GA</td>\n",
              "      <td>4.0</td>\n",
              "      <td>1014.530000</td>\n",
              "      <td>Individual</td>\n",
              "    </tr>\n",
              "    <tr>\n",
              "      <th>2</th>\n",
              "      <td>2400.0</td>\n",
              "      <td>2400.0</td>\n",
              "      <td>36 months</td>\n",
              "      <td>15.96%</td>\n",
              "      <td>84.33</td>\n",
              "      <td>C</td>\n",
              "      <td>10+ years</td>\n",
              "      <td>RENT</td>\n",
              "      <td>12252.0</td>\n",
              "      <td>Not Verified</td>\n",
              "      <td>Fully Paid</td>\n",
              "      <td>small_business</td>\n",
              "      <td>IL</td>\n",
              "      <td>10.0</td>\n",
              "      <td>3005.666844</td>\n",
              "      <td>Individual</td>\n",
              "    </tr>\n",
              "    <tr>\n",
              "      <th>3</th>\n",
              "      <td>10000.0</td>\n",
              "      <td>10000.0</td>\n",
              "      <td>36 months</td>\n",
              "      <td>13.49%</td>\n",
              "      <td>339.31</td>\n",
              "      <td>C</td>\n",
              "      <td>10+ years</td>\n",
              "      <td>RENT</td>\n",
              "      <td>49200.0</td>\n",
              "      <td>Source Verified</td>\n",
              "      <td>Fully Paid</td>\n",
              "      <td>other</td>\n",
              "      <td>CA</td>\n",
              "      <td>37.0</td>\n",
              "      <td>12231.890000</td>\n",
              "      <td>Individual</td>\n",
              "    </tr>\n",
              "    <tr>\n",
              "      <th>4</th>\n",
              "      <td>3000.0</td>\n",
              "      <td>3000.0</td>\n",
              "      <td>60 months</td>\n",
              "      <td>12.69%</td>\n",
              "      <td>67.79</td>\n",
              "      <td>B</td>\n",
              "      <td>1 year</td>\n",
              "      <td>RENT</td>\n",
              "      <td>80000.0</td>\n",
              "      <td>Source Verified</td>\n",
              "      <td>Fully Paid</td>\n",
              "      <td>other</td>\n",
              "      <td>OR</td>\n",
              "      <td>38.0</td>\n",
              "      <td>4066.908161</td>\n",
              "      <td>Individual</td>\n",
              "    </tr>\n",
              "  </tbody>\n",
              "</table>\n",
              "</div>\n",
              "      <button class=\"colab-df-convert\" onclick=\"convertToInteractive('df-4d0bb863-7473-48cd-a622-e25e4e79b0b0')\"\n",
              "              title=\"Convert this dataframe to an interactive table.\"\n",
              "              style=\"display:none;\">\n",
              "        \n",
              "  <svg xmlns=\"http://www.w3.org/2000/svg\" height=\"24px\"viewBox=\"0 0 24 24\"\n",
              "       width=\"24px\">\n",
              "    <path d=\"M0 0h24v24H0V0z\" fill=\"none\"/>\n",
              "    <path d=\"M18.56 5.44l.94 2.06.94-2.06 2.06-.94-2.06-.94-.94-2.06-.94 2.06-2.06.94zm-11 1L8.5 8.5l.94-2.06 2.06-.94-2.06-.94L8.5 2.5l-.94 2.06-2.06.94zm10 10l.94 2.06.94-2.06 2.06-.94-2.06-.94-.94-2.06-.94 2.06-2.06.94z\"/><path d=\"M17.41 7.96l-1.37-1.37c-.4-.4-.92-.59-1.43-.59-.52 0-1.04.2-1.43.59L10.3 9.45l-7.72 7.72c-.78.78-.78 2.05 0 2.83L4 21.41c.39.39.9.59 1.41.59.51 0 1.02-.2 1.41-.59l7.78-7.78 2.81-2.81c.8-.78.8-2.07 0-2.86zM5.41 20L4 18.59l7.72-7.72 1.47 1.35L5.41 20z\"/>\n",
              "  </svg>\n",
              "      </button>\n",
              "      \n",
              "  <style>\n",
              "    .colab-df-container {\n",
              "      display:flex;\n",
              "      flex-wrap:wrap;\n",
              "      gap: 12px;\n",
              "    }\n",
              "\n",
              "    .colab-df-convert {\n",
              "      background-color: #E8F0FE;\n",
              "      border: none;\n",
              "      border-radius: 50%;\n",
              "      cursor: pointer;\n",
              "      display: none;\n",
              "      fill: #1967D2;\n",
              "      height: 32px;\n",
              "      padding: 0 0 0 0;\n",
              "      width: 32px;\n",
              "    }\n",
              "\n",
              "    .colab-df-convert:hover {\n",
              "      background-color: #E2EBFA;\n",
              "      box-shadow: 0px 1px 2px rgba(60, 64, 67, 0.3), 0px 1px 3px 1px rgba(60, 64, 67, 0.15);\n",
              "      fill: #174EA6;\n",
              "    }\n",
              "\n",
              "    [theme=dark] .colab-df-convert {\n",
              "      background-color: #3B4455;\n",
              "      fill: #D2E3FC;\n",
              "    }\n",
              "\n",
              "    [theme=dark] .colab-df-convert:hover {\n",
              "      background-color: #434B5C;\n",
              "      box-shadow: 0px 1px 3px 1px rgba(0, 0, 0, 0.15);\n",
              "      filter: drop-shadow(0px 1px 2px rgba(0, 0, 0, 0.3));\n",
              "      fill: #FFFFFF;\n",
              "    }\n",
              "  </style>\n",
              "\n",
              "      <script>\n",
              "        const buttonEl =\n",
              "          document.querySelector('#df-4d0bb863-7473-48cd-a622-e25e4e79b0b0 button.colab-df-convert');\n",
              "        buttonEl.style.display =\n",
              "          google.colab.kernel.accessAllowed ? 'block' : 'none';\n",
              "\n",
              "        async function convertToInteractive(key) {\n",
              "          const element = document.querySelector('#df-4d0bb863-7473-48cd-a622-e25e4e79b0b0');\n",
              "          const dataTable =\n",
              "            await google.colab.kernel.invokeFunction('convertToInteractive',\n",
              "                                                     [key], {});\n",
              "          if (!dataTable) return;\n",
              "\n",
              "          const docLinkHtml = 'Like what you see? Visit the ' +\n",
              "            '<a target=\"_blank\" href=https://colab.research.google.com/notebooks/data_table.ipynb>data table notebook</a>'\n",
              "            + ' to learn more about interactive tables.';\n",
              "          element.innerHTML = '';\n",
              "          dataTable['output_type'] = 'display_data';\n",
              "          await google.colab.output.renderOutput(dataTable, element);\n",
              "          const docLink = document.createElement('div');\n",
              "          docLink.innerHTML = docLinkHtml;\n",
              "          element.appendChild(docLink);\n",
              "        }\n",
              "      </script>\n",
              "    </div>\n",
              "  </div>\n",
              "  "
            ]
          },
          "metadata": {},
          "execution_count": 23
        }
      ],
      "source": [
        "# Import the data\n",
        "data = pd.read_csv('/content/loan_final.csv', header=0)\n",
        "\n",
        "# Drop rows with no target value\n",
        "data.dropna(subset=['total_pymnt'], inplace=True)\n",
        "\n",
        "# Print the first five rows\n",
        "data.head()"
      ]
    },
    {
      "cell_type": "code",
      "execution_count": 24,
      "metadata": {
        "colab": {
          "base_uri": "https://localhost:8080/",
          "height": 0
        },
        "id": "HwTc9Sdqf-Rn",
        "outputId": "d912acbb-f3b4-4019-949c-dbc84f9257cd"
      },
      "outputs": [
        {
          "output_type": "execute_result",
          "data": {
            "text/plain": [
              "(42535, 16)"
            ]
          },
          "metadata": {},
          "execution_count": 24
        }
      ],
      "source": [
        "# Print the dimensions of data \n",
        "data.shape"
      ]
    },
    {
      "cell_type": "markdown",
      "metadata": {
        "id": "znFUlDEMf-Rn"
      },
      "source": [
        "## Generating a Hold Out Test Set\n",
        "\n",
        "While we will be using K-fold cross validation to select an optimal model, we still want a final hold out test set that is completely independent of any modeling decisions. As such, pull out a sample of 30% of the total available data. For consistency of results, use random seed 42. "
      ]
    },
    {
      "cell_type": "code",
      "execution_count": 36,
      "metadata": {
        "id": "C1aLGLWHf-Rn"
      },
      "outputs": [],
      "source": [
        "# Features to build the model\n",
        "features = ['loan_amnt', 'funded_amnt_inv', 'installment', 'annual_inc', \n",
        "            'home_ownership', 'verification_status', 'emp_length']\n",
        "\n",
        "X = data[features]\n",
        "y = data[['total_pymnt']]\n",
        "\n",
        "# Split the data into training and test sets\n",
        "X_train, X_test, y_train, y_test = train_test_split(X,\n",
        "                                                    y,\n",
        "                                                    test_size=0.3,\n",
        "                                                    random_state=42)"
      ]
    },
    {
      "cell_type": "markdown",
      "metadata": {
        "id": "ZEHv2zL5f-Ro"
      },
      "source": [
        "## Preprocessing (Numerical features) \n",
        "\n",
        "- Fill all missing values in numeric features with their respective means \n",
        "- Standardize all the numeric features  \n",
        "- Convert the final results into DataFrames "
      ]
    },
    {
      "cell_type": "code",
      "execution_count": 37,
      "metadata": {
        "id": "KzsYKv9if-Ro"
      },
      "outputs": [],
      "source": [
        "# Select continuous features\n",
        "cont_features = ['loan_amnt', 'funded_amnt_inv', 'installment', 'annual_inc']\n",
        "X_train_cont = X_train.loc[:, cont_features]\n",
        "X_test_cont = X_test.loc[:, cont_features]\n",
        "\n",
        "# Instantiate SimpleImputer - fill the missing values with the mean\n",
        "si = SimpleImputer(strategy='mean')\n",
        "\n",
        "# Fit and transform the training data\n",
        "X_train_imputed = si.fit_transform(X_train_cont)\n",
        "\n",
        "# Transform test data\n",
        "X_test_imputed = si.transform(X_test_cont)\n",
        "\n",
        "# Instantiate StandardScaler\n",
        "ss_X = StandardScaler()\n",
        "\n",
        "# Fit and transform the training data\n",
        "X_train_scaled = pd.DataFrame(ss_X.fit_transform(X_train_imputed),\n",
        "                              columns=cont_features)\n",
        "\n",
        "# Transform test data\n",
        "X_test_scaled = pd.DataFrame(ss_X.transform(X_test_imputed), \n",
        "                             columns=cont_features)"
      ]
    },
    {
      "cell_type": "markdown",
      "metadata": {
        "id": "gFE0rsLsf-Ro"
      },
      "source": [
        "## Preprocessing (Categorical features) \n",
        "\n",
        "- Fill all missing values in categorical features with the string `'missing'` \n",
        "- One-hot encode all categorical features \n",
        "- Convert the final results into DataFrames \n"
      ]
    },
    {
      "cell_type": "code",
      "execution_count": 38,
      "metadata": {
        "colab": {
          "base_uri": "https://localhost:8080/",
          "height": 0
        },
        "id": "8VEuxne2f-Rp",
        "outputId": "6f5502ba-e3b0-414d-9c0a-c14eb5491f13"
      },
      "outputs": [
        {
          "output_type": "stream",
          "name": "stderr",
          "text": [
            "/usr/local/lib/python3.7/dist-packages/sklearn/utils/deprecation.py:87: FutureWarning: Function get_feature_names is deprecated; get_feature_names is deprecated in 1.0 and will be removed in 1.2. Please use get_feature_names_out instead.\n",
            "  warnings.warn(msg, category=FutureWarning)\n"
          ]
        }
      ],
      "source": [
        "# Select only the categorical features\n",
        "cat_features = ['home_ownership', 'verification_status', 'emp_length']\n",
        "X_train_cat = X_train.loc[:, cat_features]\n",
        "X_test_cat = X_test.loc[:, cat_features]\n",
        "\n",
        "# Fill missing values with the string 'missing'\n",
        "X_train_cat.fillna(value='missing', inplace=True)\n",
        "X_test_cat.fillna(value='missing', inplace=True)\n",
        "\n",
        "# OneHotEncode categorical variables\n",
        "ohe = OneHotEncoder(handle_unknown='ignore')\n",
        "\n",
        "# Transform training and test sets\n",
        "X_train_ohe = ohe.fit_transform(X_train_cat)\n",
        "X_test_ohe = ohe.transform(X_test_cat)\n",
        "\n",
        "# Get all categorical feature names\n",
        "cat_columns = ohe.get_feature_names(input_features=X_train_cat.columns)\n",
        "\n",
        "# Fit and transform the training data\n",
        "X_train_categorical = pd.DataFrame(X_train_ohe.todense(), columns=cat_columns)\n",
        "\n",
        "# Transform test data\n",
        "X_test_categorical = pd.DataFrame(X_test_ohe.todense(), columns=cat_columns)"
      ]
    },
    {
      "cell_type": "markdown",
      "metadata": {
        "id": "8tA4iknwf-Rp"
      },
      "source": [
        "Run the below cell to combine the numeric and categorical features. "
      ]
    },
    {
      "cell_type": "code",
      "execution_count": 39,
      "metadata": {
        "id": "MdIsS689f-Rp"
      },
      "outputs": [],
      "source": [
        "# Combine continuous and categorical feature DataFrames\n",
        "X_train_all = pd.concat([X_train_scaled, X_train_categorical], axis=1)\n",
        "X_test_all = pd.concat([X_test_scaled, X_test_categorical], axis=1)\n",
        "\n",
        "# Number of input features\n",
        "n_features = X_train_all.shape[1]"
      ]
    },
    {
      "cell_type": "markdown",
      "metadata": {
        "id": "W6p43WRmf-Rp"
      },
      "source": [
        "- Standardize the target DataFrames (`y_train` and `y_test`) "
      ]
    },
    {
      "cell_type": "code",
      "execution_count": 40,
      "metadata": {
        "id": "-kv4mxB2f-Rp"
      },
      "outputs": [],
      "source": [
        "# Instantiate StandardScaler\n",
        "ss_y = StandardScaler()\n",
        "\n",
        "# Fit and transform Y (train)\n",
        "y_train_scaled = ss_y.fit_transform(y_train)\n",
        "\n",
        "# Transform test Y (test)\n",
        "y_test_scaled = ss_y.transform(y_test)"
      ]
    },
    {
      "cell_type": "markdown",
      "metadata": {
        "id": "G3CkYrTAf-Rp"
      },
      "source": [
        "## Define a K-fold Cross Validation Methodology\n",
        "\n",
        "Now that your have a complete holdout test set, you will perform k-fold cross-validation using the following steps: \n",
        "\n",
        "- Create a function that returns a compiled deep learning model \n",
        "- Use the wrapper function `KerasRegressor()` that defines how these folds are trained \n",
        "- Call the `cross_val_predict()` function to perform k-fold cross-validation \n",
        "\n",
        "In the cell below, we've defined a baseline model that returns a compiled Keras models. "
      ]
    },
    {
      "cell_type": "code",
      "execution_count": 41,
      "metadata": {
        "id": "syUWm0tmf-Rp"
      },
      "outputs": [],
      "source": [
        "# Define a function that returns a compiled Keras model \n",
        "def create_baseline_model():\n",
        "    \n",
        "    # Initialize model\n",
        "    model = models.Sequential()\n",
        "\n",
        "    # First hidden layer\n",
        "    model.add(layers.Dense(10, activation='relu', input_shape=(n_features,)))\n",
        "\n",
        "    # Second hidden layer\n",
        "    model.add(layers.Dense(5, activation='relu'))\n",
        "\n",
        "    # Output layer\n",
        "    model.add(layers.Dense(1, activation='linear'))\n",
        "\n",
        "    # Compile the model\n",
        "    model.compile(optimizer='SGD', \n",
        "                  loss='mse',  \n",
        "                  metrics=['mse']) \n",
        "    \n",
        "    # Return the compiled model\n",
        "    return model\n"
      ]
    },
    {
      "cell_type": "markdown",
      "metadata": {
        "id": "pAROUcuFf-Rq"
      },
      "source": [
        "Wrap `create_baseline_model` inside a call to `KerasRegressor()`, and: \n",
        "\n",
        "- Train for 150 epochs \n",
        "- Set the batch size to 256 \n",
        "\n",
        "> NOTE: Refer to the [documentation](https://keras.io/scikit-learn-api/) to learn about `KerasRegressor()`.  "
      ]
    },
    {
      "cell_type": "code",
      "execution_count": 42,
      "metadata": {
        "colab": {
          "base_uri": "https://localhost:8080/",
          "height": 0
        },
        "id": "t-W6hVxDf-Rq",
        "outputId": "83512ece-10a7-4f10-dd21-367a4e54a480"
      },
      "outputs": [
        {
          "output_type": "stream",
          "name": "stderr",
          "text": [
            "/usr/local/lib/python3.7/dist-packages/ipykernel_launcher.py:5: DeprecationWarning: KerasRegressor is deprecated, use Sci-Keras (https://github.com/adriangb/scikeras) instead. See https://www.adriangb.com/scikeras/stable/migration.html for help migrating.\n",
            "  \"\"\"\n"
          ]
        }
      ],
      "source": [
        "# Wrap the above function for use in cross-validation\n",
        "keras_wrapper_1 = KerasRegressor(create_baseline_model,  \n",
        "                                 epochs=150, \n",
        "                                 batch_size=256, \n",
        "                                 verbose=0)"
      ]
    },
    {
      "cell_type": "markdown",
      "metadata": {
        "id": "8so9fZY9f-Rq"
      },
      "source": [
        "Use `cross_val_predict()` to generate cross-validated predictions with: \n",
        "- 5-fold cv \n",
        "- scaled input (`X_train_all`) and output (`y_train_scaled`) "
      ]
    },
    {
      "cell_type": "code",
      "execution_count": 43,
      "metadata": {
        "id": "3TqzI21bf-Rq"
      },
      "outputs": [],
      "source": [
        "# ⏰ This cell may take several mintes to run\n",
        "# Generate cross-validated predictions\n",
        "np.random.seed(123)\n",
        "cv_baseline_preds = cross_val_predict(keras_wrapper_1,\n",
        "                                      X_train_all,\n",
        "                                      y_train_scaled,\n",
        "                                      cv=5)"
      ]
    },
    {
      "cell_type": "markdown",
      "metadata": {
        "id": "7Q-ZlolLf-Rq"
      },
      "source": [
        "- Find the RMSE on train data "
      ]
    },
    {
      "cell_type": "code",
      "execution_count": 44,
      "metadata": {
        "colab": {
          "base_uri": "https://localhost:8080/",
          "height": 0
        },
        "id": "-Uu6BucUf-Rq",
        "outputId": "6e70189e-668c-4550-f8df-43823e1bfb76"
      },
      "outputs": [
        {
          "output_type": "execute_result",
          "data": {
            "text/plain": [
              "0.44198120186072387"
            ]
          },
          "metadata": {},
          "execution_count": 44
        }
      ],
      "source": [
        "# RMSE on train data (scaled)\n",
        "np.sqrt(mean_squared_error(y_train_scaled, cv_baseline_preds))"
      ]
    },
    {
      "cell_type": "markdown",
      "metadata": {
        "id": "aNP9vmIUf-Rq"
      },
      "source": [
        "- Convert the scaled predictions back to original scale \n",
        "- Calculate RMSE in the original units with `y_train` and `baseline_preds` "
      ]
    },
    {
      "cell_type": "code",
      "execution_count": 48,
      "metadata": {
        "colab": {
          "base_uri": "https://localhost:8080/",
          "height": 0
        },
        "id": "eMskJ4h9f-Rq",
        "outputId": "fb006f3a-8b4e-4671-c4f4-41619248ebf9"
      },
      "outputs": [
        {
          "output_type": "execute_result",
          "data": {
            "text/plain": [
              "4025.803239363012"
            ]
          },
          "metadata": {},
          "execution_count": 48
        }
      ],
      "source": [
        "# Convert the predictions back to original scale\n",
        "cv_baseline_preds = cv_baseline_preds.reshape(-1,1)\n",
        "baseline_preds = ss_y.inverse_transform(cv_baseline_preds)\n",
        "\n",
        "# RMSE on train data (original scale)\n",
        "np.sqrt(mean_squared_error(y_train, baseline_preds))"
      ]
    },
    {
      "cell_type": "markdown",
      "metadata": {
        "id": "r0b7X18tf-Rq"
      },
      "source": [
        "## Intentionally Overfitting a Model\n",
        "\n",
        "Now that you've developed a baseline model, its time to intentionally overfit a model. To overfit a model, you can:\n",
        "* Add layers\n",
        "* Make the layers bigger\n",
        "* Increase the number of training epochs\n",
        "\n",
        "Again, be careful here. Think about the limitations of your resources, both in terms of your computers specs and how much time and patience you have to let the process run. Also keep in mind that you will then be regularizing these overfit models, meaning another round of experiments and more time and resources."
      ]
    },
    {
      "cell_type": "code",
      "execution_count": 49,
      "metadata": {
        "id": "V7-37i6Af-Rq"
      },
      "outputs": [],
      "source": [
        "# Define a function that returns a compiled Keras model \n",
        "def create_bigger_model():\n",
        "    \n",
        "    # Initialize model\n",
        "    model = models.Sequential()\n",
        "\n",
        "    # First hidden layer\n",
        "    model.add(layers.Dense(10, activation='relu', input_shape=(n_features,)))\n",
        "\n",
        "    # Second hidden layer\n",
        "    model.add(layers.Dense(10, activation='relu'))\n",
        "    \n",
        "    # Third hidden layer\n",
        "    model.add(layers.Dense(10, activation='relu'))\n",
        "    \n",
        "    # Fourth hidden layer\n",
        "    model.add(layers.Dense(10, activation='relu'))\n",
        "    \n",
        "    # Fifth hidden layer\n",
        "    model.add(layers.Dense(10, activation='relu'))\n",
        "\n",
        "    # Output layer\n",
        "    model.add(layers.Dense(1, activation='linear'))\n",
        "\n",
        "    # Compile the model\n",
        "    model.compile(optimizer='SGD', \n",
        "                  loss='mse',  \n",
        "                  metrics=['mse']) \n",
        "    \n",
        "    # Return the compiled model\n",
        "    return model"
      ]
    },
    {
      "cell_type": "code",
      "execution_count": 50,
      "metadata": {
        "colab": {
          "base_uri": "https://localhost:8080/",
          "height": 0
        },
        "id": "5GpukHCmf-Rq",
        "outputId": "eaf12823-e97d-4a0f-e0d5-b81cfc76b45e"
      },
      "outputs": [
        {
          "output_type": "stream",
          "name": "stderr",
          "text": [
            "/usr/local/lib/python3.7/dist-packages/ipykernel_launcher.py:5: DeprecationWarning: KerasRegressor is deprecated, use Sci-Keras (https://github.com/adriangb/scikeras) instead. See https://www.adriangb.com/scikeras/stable/migration.html for help migrating.\n",
            "  \"\"\"\n"
          ]
        }
      ],
      "source": [
        "# Wrap the above function for use in cross-validation\n",
        "keras_wrapper_2 = KerasRegressor(create_bigger_model,  \n",
        "                                 epochs=150, \n",
        "                                 batch_size=256, \n",
        "                                 verbose=0)"
      ]
    },
    {
      "cell_type": "code",
      "execution_count": 51,
      "metadata": {
        "id": "00HvFh9Yf-Rq"
      },
      "outputs": [],
      "source": [
        "# ⏰ This cell may take several mintes to run\n",
        "# Generate cross-validated predictions\n",
        "np.random.seed(123)\n",
        "cv_bigger_model_preds = cross_val_predict(keras_wrapper_2,\n",
        "                                          X_train_all, \n",
        "                                          y_train_scaled, \n",
        "                                          cv=5)"
      ]
    },
    {
      "cell_type": "code",
      "execution_count": 52,
      "metadata": {
        "colab": {
          "base_uri": "https://localhost:8080/",
          "height": 0
        },
        "id": "07JdH1VGf-Rr",
        "outputId": "8a67912c-e8bf-454c-8e40-76d6cfe723fd"
      },
      "outputs": [
        {
          "output_type": "execute_result",
          "data": {
            "text/plain": [
              "0.452699473244423"
            ]
          },
          "metadata": {},
          "execution_count": 52
        }
      ],
      "source": [
        "# RMSE on train data (scaled)\n",
        "np.sqrt(mean_squared_error(y_train_scaled, cv_bigger_model_preds))"
      ]
    },
    {
      "cell_type": "markdown",
      "metadata": {
        "id": "cGvTnVyxf-Rr"
      },
      "source": [
        "## Regularizing the Model to Achieve Balance  \n",
        "\n",
        "Now that you have a powerful model (albeit an overfit one), we can now increase the generalization of the model by using some of the regularization techniques we discussed. Some options you have to try include:  \n",
        "* Adding dropout\n",
        "* Adding L1/L2 regularization\n",
        "* Altering the layer architecture (add or remove layers similar to above)  \n",
        "\n",
        "This process will be constrained by time and resources. Be sure to test at least two different methodologies, such as dropout and L2 regularization. If you have the time, feel free to continue experimenting. "
      ]
    },
    {
      "cell_type": "code",
      "execution_count": 53,
      "metadata": {
        "id": "pAui9_3If-Rr"
      },
      "outputs": [],
      "source": [
        "# Define a function that returns a compiled Keras model \n",
        "def create_regularized_model():\n",
        "    \n",
        "    # Initialize model\n",
        "    model = models.Sequential()\n",
        "\n",
        "    # Input layer with dropout\n",
        "    model.add(layers.Dropout(0.3, input_shape=(n_features,)))\n",
        "    \n",
        "    # First hidden layer\n",
        "    model.add(layers.Dense(10,\n",
        "                           kernel_regularizer=regularizers.l2(0.005),\n",
        "                           activation='relu'))\n",
        "    model.add(layers.Dropout(0.3))\n",
        "\n",
        "    # Second hidden layer\n",
        "    model.add(layers.Dense(10,\n",
        "                           kernel_regularizer=regularizers.l2(0.005),\n",
        "                           activation='relu'))\n",
        "    model.add(layers.Dropout(0.3))\n",
        "    \n",
        "    # Third hidden layer\n",
        "    model.add(layers.Dense(10, \n",
        "                           kernel_regularizer=regularizers.l2(0.005),\n",
        "                           activation='relu'))\n",
        "    model.add(layers.Dropout(0.3))\n",
        "\n",
        "    # Output layer\n",
        "    model.add(layers.Dense(1, activation='linear'))\n",
        "\n",
        "    # Compile the model\n",
        "    model.compile(optimizer='SGD', \n",
        "                  loss='mse',  \n",
        "                  metrics=['mse']) \n",
        "    \n",
        "    # Return the compiled model\n",
        "    return model"
      ]
    },
    {
      "cell_type": "code",
      "execution_count": 54,
      "metadata": {
        "colab": {
          "base_uri": "https://localhost:8080/",
          "height": 0
        },
        "id": "wZUnMlNnf-Rr",
        "outputId": "45f346a0-304c-488f-a771-9cbec3200472"
      },
      "outputs": [
        {
          "output_type": "stream",
          "name": "stderr",
          "text": [
            "/usr/local/lib/python3.7/dist-packages/ipykernel_launcher.py:5: DeprecationWarning: KerasRegressor is deprecated, use Sci-Keras (https://github.com/adriangb/scikeras) instead. See https://www.adriangb.com/scikeras/stable/migration.html for help migrating.\n",
            "  \"\"\"\n"
          ]
        }
      ],
      "source": [
        "# Wrap the above function for use in cross-validation\n",
        "keras_wrapper_3 = KerasRegressor(create_regularized_model,  \n",
        "                                 epochs=150, \n",
        "                                 batch_size=256, \n",
        "                                 verbose=0)"
      ]
    },
    {
      "cell_type": "code",
      "execution_count": 55,
      "metadata": {
        "id": "D3dMITrEf-Rr"
      },
      "outputs": [],
      "source": [
        "# ⏰ This cell may take several mintes to run\n",
        "# Generate cross-validated predictions\n",
        "np.random.seed(123)\n",
        "cv_dropout_preds = cross_val_predict(keras_wrapper_3,\n",
        "                                     X_train_all,\n",
        "                                     y_train_scaled,\n",
        "                                     cv=5)"
      ]
    },
    {
      "cell_type": "code",
      "execution_count": 56,
      "metadata": {
        "colab": {
          "base_uri": "https://localhost:8080/",
          "height": 0
        },
        "id": "bBKW35rkf-Rr",
        "outputId": "75e0bece-eff9-45ec-eb32-33ec52c1ac09"
      },
      "outputs": [
        {
          "output_type": "execute_result",
          "data": {
            "text/plain": [
              "0.571304349130752"
            ]
          },
          "metadata": {},
          "execution_count": 56
        }
      ],
      "source": [
        "# RMSE on train data (scaled)\n",
        "np.sqrt(mean_squared_error(y_train_scaled, cv_dropout_preds))"
      ]
    },
    {
      "cell_type": "markdown",
      "metadata": {
        "id": "4BtJ4QWVf-Rr"
      },
      "source": [
        "## Final Evaluation\n",
        "\n",
        "Now that you have selected a network architecture, tested various regularization procedures and tuned hyperparameters via a validation methodology, it is time to evaluate your final model on the test set. Fit the model using all of the training data using the architecture and hyperparameters that were most effective in your experiments above. Afterwards, measure the overall performance on the hold-out test data which has been left untouched (and hasn't leaked any data into the modeling process)! "
      ]
    },
    {
      "cell_type": "code",
      "execution_count": 57,
      "metadata": {
        "colab": {
          "base_uri": "https://localhost:8080/",
          "height": 0
        },
        "id": "MgUNATHAf-Rr",
        "outputId": "256806bf-2fde-4245-e0ff-7cd05a7a94b8"
      },
      "outputs": [
        {
          "output_type": "execute_result",
          "data": {
            "text/plain": [
              "<keras.callbacks.History at 0x7f1c7ff13ed0>"
            ]
          },
          "metadata": {},
          "execution_count": 57
        }
      ],
      "source": [
        "# ⏰ This cell may take several mintes to run\n",
        "model = models.Sequential()\n",
        "\n",
        "# First hidden layer\n",
        "model.add(layers.Dense(10, activation='relu', input_shape=(n_features,)))\n",
        "\n",
        "# Second hidden layer\n",
        "model.add(layers.Dense(5, activation='relu'))\n",
        "\n",
        "# Output layer\n",
        "model.add(layers.Dense(1, activation='linear'))\n",
        "\n",
        "# Compile the model\n",
        "model.compile(optimizer='SGD', \n",
        "              loss='mse',  \n",
        "              metrics=['mse']) \n",
        "\n",
        "# Train the model \n",
        "model.fit(X_train_all, \n",
        "          y_train_scaled, \n",
        "          epochs=150, \n",
        "          batch_size=256, \n",
        "          verbose=0)"
      ]
    },
    {
      "cell_type": "code",
      "execution_count": 58,
      "metadata": {
        "colab": {
          "base_uri": "https://localhost:8080/",
          "height": 0
        },
        "id": "-vpiN9Zwf-Rr",
        "outputId": "033e2cea-aae3-4557-fdc3-e974a8691e57"
      },
      "outputs": [
        {
          "output_type": "execute_result",
          "data": {
            "text/plain": [
              "3892.834595489664"
            ]
          },
          "metadata": {},
          "execution_count": 58
        }
      ],
      "source": [
        "final_preds_scaled = model.predict(X_test_all)\n",
        "\n",
        "# Convert the predictions back to original scale \n",
        "final_preds = ss_y.inverse_transform(final_preds_scaled)\n",
        "\n",
        "# RMSE on test data (original scale)\n",
        "np.sqrt(mean_squared_error(y_test, final_preds))"
      ]
    },
    {
      "cell_type": "markdown",
      "metadata": {
        "id": "yODxzW-Bf-Rr"
      },
      "source": [
        "## Summary\n",
        "\n",
        "In this lab, you investigated some data from *The Lending Club* in a complete data science pipeline to build neural networks with good performance. You began with reserving a hold-out set for testing which never was touched during the modeling phase. From there, you implemented a k-fold cross validation methodology in order to assess an initial baseline model and various regularization methods. "
      ]
    }
  ],
  "metadata": {
    "kernelspec": {
      "display_name": "Python 3",
      "language": "python",
      "name": "python3"
    },
    "language_info": {
      "codemirror_mode": {
        "name": "ipython",
        "version": 3
      },
      "file_extension": ".py",
      "mimetype": "text/x-python",
      "name": "python",
      "nbconvert_exporter": "python",
      "pygments_lexer": "ipython3",
      "version": "3.7.3"
    },
    "colab": {
      "name": "index (3).ipynb",
      "provenance": [],
      "collapsed_sections": [],
      "include_colab_link": true
    }
  },
  "nbformat": 4,
  "nbformat_minor": 0
}